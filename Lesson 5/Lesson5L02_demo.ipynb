{
 "cells": [
  {
   "cell_type": "markdown",
   "id": "76cfda17",
   "metadata": {},
   "source": [
    "\n",
    "# Lesson 2 — Practical Setup & First Run (Hands-on Notebook)\n",
    "\n",
    "This notebook gives a **small, runnable demo** of the key ideas from Lesson 2, in order:\n",
    "\n",
    "1. **Choose a starting point**: checkpoint vs scratch  \n",
    "2. **Tokenizer alignment**: special tokens, PAD mask, unknown-token rate  \n",
    "3. **Context length & truncation rules**  \n",
    "4. **Learning-rate schedule & effective batch size (EBS)**  \n",
    "5. **Evaluation & monitoring from day 1**  \n",
    "6. **Token budget & data mix** (simple planning math)  \n",
    "7. **Cost & run plan sanity check**  \n",
    "8. **Pre-flight checklist** (batch preview + config snapshot)  \n",
    "9. **Smoke test** (200–500 steps)  \n",
    "10. **Common “uh-ohs” & quick fixes**\n",
    "\n",
    "> **Note:** We’ll use a **tiny causal LM** for speed. Replace configs / model names with your own when running on real data.\n"
   ]
  },
  {
   "cell_type": "markdown",
   "id": "44202d84",
   "metadata": {},
   "source": [
    "\n",
    "## 0) Setup\n",
    "Install libraries (skip if already installed) and import.\n"
   ]
  },
  {
   "cell_type": "code",
   "execution_count": 1,
   "id": "af6581df",
   "metadata": {},
   "outputs": [
    {
     "data": {
      "text/plain": [
       "'cpu'"
      ]
     },
     "execution_count": 1,
     "metadata": {},
     "output_type": "execute_result"
    }
   ],
   "source": [
    "\n",
    "# If needed, uncomment to install\n",
    "# !pip install -q torch transformers datasets accelerate matplotlib\n",
    "\n",
    "import math, time, json, random, os\n",
    "from dataclasses import dataclass\n",
    "from typing import List, Dict, Tuple\n",
    "\n",
    "import torch\n",
    "from torch import nn\n",
    "from torch.utils.data import Dataset, DataLoader\n",
    "\n",
    "from transformers import (\n",
    "    AutoConfig, AutoModelForCausalLM, AutoTokenizer,\n",
    "    GPT2Config, GPT2LMHeadModel, get_cosine_schedule_with_warmup, get_linear_schedule_with_warmup\n",
    ")\n",
    "\n",
    "import matplotlib.pyplot as plt\n",
    "plt.rcParams['figure.figsize'] = (6,3.5)  # modest size for classroom\n",
    "device = 'cuda' if torch.cuda.is_available() else 'cpu'\n",
    "device\n"
   ]
  },
  {
   "cell_type": "markdown",
   "id": "cbc7cd11",
   "metadata": {},
   "source": [
    "\n",
    "## 1) Choose a starting point: checkpoint vs scratch\n",
    "\n",
    "- **Checkpoint:** load a small pretrained model (e.g., `distilgpt2`)  \n",
    "- **Scratch:** create a **tiny** GPT-2 config and initialize random weights\n"
   ]
  },
  {
   "cell_type": "code",
   "execution_count": 2,
   "id": "637d87fa",
   "metadata": {},
   "outputs": [
    {
     "data": {
      "text/plain": [
       "81.912576"
      ]
     },
     "execution_count": 2,
     "metadata": {},
     "output_type": "execute_result"
    }
   ],
   "source": [
    "\n",
    "# A) From checkpoint (good default for most work)\n",
    "ckpt_name = \"distilgpt2\"  # small and fast\n",
    "tok_ckpt = AutoTokenizer.from_pretrained(ckpt_name)\n",
    "model_ckpt = AutoModelForCausalLM.from_pretrained(ckpt_name).to(device)\n",
    "sum(p.numel() for p in model_ckpt.parameters())/1e6\n"
   ]
  },
  {
   "cell_type": "code",
   "execution_count": 3,
   "id": "2d5cbb49",
   "metadata": {},
   "outputs": [
    {
     "data": {
      "text/plain": [
       "6.895232"
      ]
     },
     "execution_count": 3,
     "metadata": {},
     "output_type": "execute_result"
    }
   ],
   "source": [
    "\n",
    "# B) From scratch (only when you truly need to)\n",
    "scratch_cfg = GPT2Config(\n",
    "    n_layer=2, n_head=2, n_embd=128, n_positions=512, n_ctx=512, vocab_size=len(tok_ckpt)\n",
    ")\n",
    "model_scratch = GPT2LMHeadModel(scratch_cfg).to(device)\n",
    "sum(p.numel() for p in model_scratch.parameters())/1e6\n"
   ]
  },
  {
   "cell_type": "markdown",
   "id": "a1dcb5d8",
   "metadata": {},
   "source": [
    "\n",
    "> **Takeaway:** prefer a **checkpoint** unless you have a strong reason to start from scratch.\n"
   ]
  },
  {
   "cell_type": "markdown",
   "id": "88b3e47f",
   "metadata": {},
   "source": [
    "\n",
    "## 2) Tokenizer alignment: special tokens, PAD mask, unknown-token rate\n",
    "We’ll make sure the **tokenizer matches** the model, **special tokens** are defined, and the **PAD** positions are **ignored by loss**.\n"
   ]
  },
  {
   "cell_type": "code",
   "execution_count": 4,
   "id": "cf7e7b66",
   "metadata": {},
   "outputs": [
    {
     "name": "stdout",
     "output_type": "stream",
     "text": [
      "EOS: <|endoftext|> 50256\n",
      "PAD: <|endoftext|> 50256\n"
     ]
    }
   ],
   "source": [
    "\n",
    "# Ensure EOS/PAD are set\n",
    "# Many GPT2-like tokenizers have eos_token but no pad_token; set pad_token to eos or a new token for batching\n",
    "if tok_ckpt.pad_token is None:\n",
    "    tok_ckpt.pad_token = tok_ckpt.eos_token\n",
    "\n",
    "print(\"EOS:\", tok_ckpt.eos_token, tok_ckpt.eos_token_id)\n",
    "print(\"PAD:\", tok_ckpt.pad_token, tok_ckpt.pad_token_id)\n"
   ]
  },
  {
   "cell_type": "code",
   "execution_count": 5,
   "id": "5bda29d0",
   "metadata": {},
   "outputs": [
    {
     "name": "stdout",
     "output_type": "stream",
     "text": [
      "Unknown-token rate: 0.2533\n",
      "input_ids torch.Size([3, 25])\n",
      "attention_mask torch.Size([3, 25])\n"
     ]
    }
   ],
   "source": [
    "\n",
    "# Unknown-token rate on a sample batch\n",
    "sample_texts = [\n",
    "    \"Hello world! This is a quick tokenizer check.\",\n",
    "    \"C'est la vie — naïve façade coöperate. 日本語テスト。\",\n",
    "    \"ACME v2.1 released: http://example.com/docs?id=12345\"\n",
    "]\n",
    "enc = tok_ckpt(sample_texts, padding=True, truncation=True, max_length=64, return_tensors='pt')\n",
    "unk_id = tok_ckpt.unk_token_id\n",
    "if unk_id is None:\n",
    "    print(\"Tokenizer has no explicit <unk>; using high-byte tokens for OOV handling.\")\n",
    "else:\n",
    "    oov = (enc[\"input_ids\"] == unk_id).float().mean().item()\n",
    "    print(f\"Unknown-token rate: {oov:.4f}\")\n",
    "for k, v in enc.items():\n",
    "    print(k, v.shape)\n"
   ]
  },
  {
   "cell_type": "code",
   "execution_count": 6,
   "id": "42849809",
   "metadata": {},
   "outputs": [
    {
     "name": "stdout",
     "output_type": "stream",
     "text": [
      "Token IDs: [15496, 995, 0, 770, 318, 257, 2068, 11241, 7509, 2198, 13, 50256, 50256, 50256, 50256, 50256, 50256, 50256, 50256, 50256, 50256, 50256, 50256, 50256, 50256] ...\n",
      "Mask    : [1, 1, 1, 1, 1, 1, 1, 1, 1, 1, 1, 0, 0, 0, 0, 0, 0, 0, 0, 0, 0, 0, 0, 0, 0] ...\n",
      "PAD positions: [11, 12, 13, 14, 15, 16, 17, 18, 19, 20]\n"
     ]
    }
   ],
   "source": [
    "\n",
    "# Show one row: token ids, attention mask, and where EOS appears\n",
    "row = 0\n",
    "ids = enc[\"input_ids\"][row].tolist()\n",
    "mask = enc[\"attention_mask\"][row].tolist()\n",
    "print(\"Token IDs:\", ids[:40], \"...\")\n",
    "print(\"Mask    :\", mask[:40], \"...\")\n",
    "# Confirm PADs:\n",
    "pad_positions = [i for i, t in enumerate(ids) if t == tok_ckpt.pad_token_id]\n",
    "print(\"PAD positions:\", pad_positions[:10])\n"
   ]
  },
  {
   "cell_type": "markdown",
   "id": "55a99d82",
   "metadata": {},
   "source": [
    "\n",
    "## 3) Context length & truncation rules (head/tail/balanced)\n",
    "Pick the **smallest** max length that fits your tasks. Define a **consistent** truncation rule.\n"
   ]
  },
  {
   "cell_type": "code",
   "execution_count": 7,
   "id": "c0b78cf4",
   "metadata": {},
   "outputs": [
    {
     "name": "stdout",
     "output_type": "stream",
     "text": [
      "head len: 32 head: [75, 29625, 62, 2419, 388] ... tail: [62, 2419, 388, 24044, 76]\n",
      "tail len: 32 head: [2419, 388, 24044, 76, 62] ... tail: [24044, 76, 62, 2419, 388]\n",
      "balanced len: 32 head: [75, 29625, 62, 2419, 388] ... tail: [24044, 76, 62, 2419, 388]\n"
     ]
    }
   ],
   "source": [
    "\n",
    "def truncate_head_tail(tokens: List[int], max_len: int, mode='head'):\n",
    "    if len(tokens) <= max_len:\n",
    "        return tokens\n",
    "    if mode == 'head':      # keep the beginning\n",
    "        return tokens[:max_len]\n",
    "    if mode == 'tail':      # keep the end\n",
    "        return tokens[-max_len:]\n",
    "    # balanced: keep equal parts from start/end\n",
    "    half = max_len // 2\n",
    "    return tokens[:half] + tokens[-(max_len-half):]\n",
    "\n",
    "long_sample = \" \".join([\"lorem_ipsum\"]*200)\n",
    "long_ids = tok_ckpt(long_sample, add_special_tokens=False)[\"input_ids\"]\n",
    "for rule in ['head','tail','balanced']:\n",
    "    cut = truncate_head_tail(long_ids, max_len=32, mode=rule)\n",
    "    print(rule, \"len:\", len(cut), \"head:\", cut[:5], \"... tail:\", cut[-5:])\n"
   ]
  },
  {
   "cell_type": "markdown",
   "id": "69632c8d",
   "metadata": {},
   "source": [
    "\n",
    "## 4) Learning-rate schedule & effective batch size (EBS)\n",
    "- **Warmup**: ~1–3% of steps  \n",
    "- **Decay**: cosine or linear  \n",
    "- **EBS** = micro_batch × grad_accum × #GPUs\n"
   ]
  },
  {
   "cell_type": "code",
   "execution_count": 8,
   "id": "71afbcc5",
   "metadata": {},
   "outputs": [
    {
     "name": "stdout",
     "output_type": "stream",
     "text": [
      "Effective Batch Size (EBS): 32\n"
     ]
    },
    {
     "data": {
      "image/png": "[encoded data removed]",
      "text/plain": [
       "<Figure size 600x350 with 1 Axes>"
      ]
     },
     "metadata": {},
     "output_type": "display_data"
    }
   ],
   "source": [
    "\n",
    "micro_batch = 8\n",
    "grad_accum = 4\n",
    "num_gpus = max(1, torch.cuda.device_count())\n",
    "seq_len = 128\n",
    "\n",
    "EBS = micro_batch * grad_accum * num_gpus\n",
    "print(\"Effective Batch Size (EBS):\", EBS)\n",
    "\n",
    "total_steps = 2000\n",
    "warmup_steps = int(0.02 * total_steps)  # 2% warmup\n",
    "base_lr = 3e-4\n",
    "\n",
    "# Simulate cosine schedule curve\n",
    "lrs = []\n",
    "for step in range(total_steps):\n",
    "    if step < warmup_steps:\n",
    "        lr = base_lr * (step + 1) / max(1, warmup_steps)\n",
    "    else:\n",
    "        progress = (step - warmup_steps) / max(1, (total_steps - warmup_steps))\n",
    "        lr = 0.5 * base_lr * (1 + math.cos(math.pi * progress))\n",
    "    lrs.append(lr)\n",
    "\n",
    "plt.plot(lrs)\n",
    "plt.title(\"Learning rate vs steps (warmup + cosine)\")\n",
    "plt.xlabel(\"Step\")\n",
    "plt.ylabel(\"LR\")\n",
    "plt.show()\n"
   ]
  },
  {
   "cell_type": "markdown",
   "id": "12c2a19d",
   "metadata": {},
   "source": [
    "\n",
    "## 5) Evaluation & monitoring from day 1\n",
    "We’ll set up a **tiny synthetic dataset**, a **dev set**, and log **loss**, **tokens/sec**, **LR**, and **memory** every few steps.\n"
   ]
  },
  {
   "cell_type": "code",
   "execution_count": 9,
   "id": "e79630e4",
   "metadata": {},
   "outputs": [
    {
     "name": "stderr",
     "output_type": "stream",
     "text": [
      "`loss_type=None` was set in the config but it is unrecognized. Using the default loss: `ForCausalLMLoss`.\n"
     ]
    },
    {
     "name": "stdout",
     "output_type": "stream",
     "text": [
      "step    0 | train 10.048 | dev 9.982 | tps 3,636 | lr  7.50e-06\n",
      "step   10 | train 8.847 | dev 8.777 | tps 658 | lr  8.25e-05\n",
      "step   20 | train 8.285 | dev 8.226 | tps 657 | lr  1.57e-04\n",
      "step   30 | train 7.800 | dev 7.720 | tps 667 | lr  2.32e-04\n",
      "step   40 | train 7.122 | dev 7.012 | tps 659 | lr  3.00e-04\n",
      "step   50 | train 6.307 | dev 6.190 | tps 646 | lr  3.00e-04\n"
     ]
    }
   ],
   "source": [
    "\n",
    "class ToyTextDataset(Dataset):\n",
    "    def __init__(self, tokenizer, n_samples=1024, seq_len=128, vocab_prompt=\"Hello\"):\n",
    "        self.tok = tokenizer\n",
    "        self.samples = [f\"{vocab_prompt} sample {i}\" for i in range(n_samples)]\n",
    "        self.seq_len = seq_len\n",
    "    def __len__(self): return len(self.samples)\n",
    "    def __getitem__(self, idx):\n",
    "        enc = self.tok(self.samples[idx], truncation=True, padding='max_length',\n",
    "                       max_length=self.seq_len, return_tensors='pt')\n",
    "        # Causal LM: labels are input_ids shifted by 1 inside the model\n",
    "        return {k: v.squeeze(0) for k, v in enc.items()}\n",
    "\n",
    "train_ds = ToyTextDataset(tok_ckpt, n_samples=512, seq_len=seq_len)\n",
    "dev_ds = ToyTextDataset(tok_ckpt, n_samples=64, seq_len=seq_len, vocab_prompt=\"Eval\")\n",
    "train_loader = DataLoader(train_ds, batch_size=micro_batch, shuffle=True)\n",
    "dev_loader = DataLoader(dev_ds, batch_size=micro_batch)\n",
    "\n",
    "model = model_scratch  # small scratch model for demo speed\n",
    "optim = torch.optim.AdamW(model.parameters(), lr=base_lr, weight_decay=0.01)\n",
    "\n",
    "def eval_loss(model, loader):\n",
    "    model.eval()\n",
    "    losses = []\n",
    "    with torch.no_grad():\n",
    "        for batch in loader:\n",
    "            batch = {k: v.to(device) for k, v in batch.items()}\n",
    "            out = model(**batch, labels=batch[\"input_ids\"])\n",
    "            losses.append(out.loss.item())\n",
    "    model.train()\n",
    "    return sum(losses)/len(losses)\n",
    "\n",
    "# quick dry run\n",
    "model.train()\n",
    "start = time.time()\n",
    "log = {\"step\": [], \"train_loss\": [], \"dev_loss\": [], \"tokens_sec\": [], \"lr\": []}\n",
    "warmup_steps = int(0.02 * total_steps)\n",
    "for step, batch in enumerate(train_loader):\n",
    "    if step > 50:  # short demo loop\n",
    "        break\n",
    "    batch = {k: v.to(device) for k, v in batch.items()}\n",
    "    # simple warmup + cosine schedule\n",
    "    if step < warmup_steps:\n",
    "        lr = base_lr * (step + 1) / max(1, warmup_steps)\n",
    "    else:\n",
    "        progress = (step - warmup_steps) / max(1, (total_steps - warmup_steps))\n",
    "        lr = 0.5 * base_lr * (1 + math.cos(math.pi * progress))\n",
    "    for g in optim.param_groups: g['lr'] = lr\n",
    "\n",
    "    out = model(**batch, labels=batch[\"input_ids\"])\n",
    "    out.loss.backward()\n",
    "    torch.nn.utils.clip_grad_norm_(model.parameters(), 1.0)\n",
    "    optim.step(); optim.zero_grad()\n",
    "\n",
    "    # simple throughput estimate\n",
    "    tokens_processed = batch[\"input_ids\"].numel()\n",
    "    elapsed = max(1e-6, time.time() - start)\n",
    "    tps = tokens_processed / elapsed\n",
    "\n",
    "    if step % 10 == 0:\n",
    "        dev_l = eval_loss(model, dev_loader)\n",
    "        log[\"step\"].append(step)\n",
    "        log[\"train_loss\"].append(out.loss.item())\n",
    "        log[\"dev_loss\"].append(dev_l)\n",
    "        log[\"tokens_sec\"].append(tps)\n",
    "        log[\"lr\"].append(lr)\n",
    "        print(f\"step {step:4d} | train {out.loss.item():.3f} | dev {dev_l:.3f} | tps {tps:,.0f} | lr {lr: .2e}\")\n",
    "        start = time.time()  # reset window\n"
   ]
  },
  {
   "cell_type": "code",
   "execution_count": 10,
   "id": "aecef503",
   "metadata": {},
   "outputs": [
    {
     "data": {
      "image/png": "[encoded data removed]",
      "text/plain": [
       "<Figure size 600x350 with 1 Axes>"
      ]
     },
     "metadata": {},
     "output_type": "display_data"
    },
    {
     "data": {
      "image/png": "[encoded data removed]",
      "text/plain": [
       "<Figure size 600x350 with 1 Axes>"
      ]
     },
     "metadata": {},
     "output_type": "display_data"
    },
    {
     "data": {
      "image/png": "[encoded data removed]",
      "text/plain": [
       "<Figure size 600x350 with 1 Axes>"
      ]
     },
     "metadata": {},
     "output_type": "display_data"
    }
   ],
   "source": [
    "\n",
    "# Simple dashboard plots\n",
    "fig, ax = plt.subplots()\n",
    "ax.plot(log[\"step\"], log[\"train_loss\"]); ax.set_title(\"Train loss\"); ax.set_xlabel(\"step\"); ax.set_ylabel(\"loss\")\n",
    "plt.show()\n",
    "\n",
    "fig, ax = plt.subplots()\n",
    "ax.plot(log[\"step\"], log[\"dev_loss\"]); ax.set_title(\"Dev loss\"); ax.set_xlabel(\"step\"); ax.set_ylabel(\"loss\")\n",
    "plt.show()\n",
    "\n",
    "fig, ax = plt.subplots()\n",
    "ax.plot(log[\"step\"], log[\"tokens_sec\"]); ax.set_title(\"Tokens/sec\"); ax.set_xlabel(\"step\"); ax.set_ylabel(\"tkn/s\")\n",
    "plt.show()\n"
   ]
  },
  {
   "cell_type": "markdown",
   "id": "b7088423",
   "metadata": {},
   "source": [
    "\n",
    "## 6) Token budget & data mix (planning math)\n",
    "Compute tokens per step, steps to target, and sketch a data mix.\n"
   ]
  },
  {
   "cell_type": "code",
   "execution_count": 11,
   "id": "a3b22115",
   "metadata": {},
   "outputs": [
    {
     "name": "stdout",
     "output_type": "stream",
     "text": [
      "tokens/step: 4096\n",
      "steps (to 50M): 12208\n"
     ]
    },
    {
     "data": {
      "text/plain": [
       "{'general': 0.6, 'product_docs': 0.2, 'support': 0.1, 'code': 0.1}"
      ]
     },
     "execution_count": 11,
     "metadata": {},
     "output_type": "execute_result"
    }
   ],
   "source": [
    "\n",
    "def tokens_per_step(seq_len, ebs): return seq_len * ebs\n",
    "def steps_from_goal(total_tokens, tps): return math.ceil(total_tokens / max(1, tps))\n",
    "\n",
    "goal_tokens = 50_000_000  # 50M for demo\n",
    "tps = tokens_per_step(seq_len, EBS)\n",
    "steps_est = steps_from_goal(goal_tokens, tps)\n",
    "\n",
    "print(\"tokens/step:\", tps)\n",
    "print(\"steps (to 50M):\", steps_est)\n",
    "\n",
    "data_mix = {\n",
    "    \"general\": 0.60,\n",
    "    \"product_docs\": 0.20,\n",
    "    \"support\": 0.10,\n",
    "    \"code\": 0.10,\n",
    "}\n",
    "data_mix\n"
   ]
  },
  {
   "cell_type": "markdown",
   "id": "8b418d48",
   "metadata": {},
   "source": [
    "\n",
    "## 7) Cost & run plan sanity check\n",
    "Estimate runtime, GPU-hours, and cost given **tokens/sec** and **#GPUs**.\n"
   ]
  },
  {
   "cell_type": "code",
   "execution_count": 12,
   "id": "89994139",
   "metadata": {},
   "outputs": [
    {
     "name": "stdout",
     "output_type": "stream",
     "text": [
      "Throughput used: 646 tkn/s\n",
      "Runtime ~ 3.52 hr, GPU-hours ~ 3.52, Cost ~ $8.81\n"
     ]
    }
   ],
   "source": [
    "\n",
    "def estimate_time_seconds(steps, tokens_step, tokens_sec):\n",
    "    return (steps * tokens_step) / max(1e-9, tokens_sec)\n",
    "\n",
    "def estimate_gpu_hours(seconds, num_gpus):\n",
    "    return (seconds/3600.0) * num_gpus\n",
    "\n",
    "def estimate_cost(gpu_hours, usd_per_gpu_hour):\n",
    "    return gpu_hours * usd_per_gpu_hour\n",
    "\n",
    "tokens_sec_measured = (log[\"tokens_sec\"][-1]) if log[\"tokens_sec\"] else 250000\n",
    "\n",
    "steps_plan = 2000  # example plan\n",
    "sec = estimate_time_seconds(steps_plan, tps, tokens_sec_measured)\n",
    "gpu_hours = estimate_gpu_hours(sec, num_gpus)\n",
    "usd = estimate_cost(gpu_hours, usd_per_gpu_hour=2.5)\n",
    "\n",
    "print(f\"Throughput used: {tokens_sec_measured:,.0f} tkn/s\")\n",
    "print(f\"Runtime ~ {sec/3600:.2f} hr, GPU-hours ~ {gpu_hours:.2f}, Cost ~ ${usd:,.2f}\")\n"
   ]
  },
  {
   "cell_type": "markdown",
   "id": "7b3120c0",
   "metadata": {},
   "source": [
    "\n",
    "## 8) Pre-flight checklist (batch preview + config snapshot)\n",
    "Quick validation before any long run.\n"
   ]
  },
  {
   "cell_type": "code",
   "execution_count": 13,
   "id": "ff6b96f9",
   "metadata": {},
   "outputs": [
    {
     "name": "stdout",
     "output_type": "stream",
     "text": [
      "EOS id: 50256 | PAD id: 50256\n",
      "Token IDs (first 80): [15496, 13605, 662, 12, 22560, 15458, 0]\n",
      "Mask      (first 80): [1, 1, 1, 1, 1, 1, 1]\n",
      "Saved: preflight_config.json\n"
     ]
    }
   ],
   "source": [
    "\n",
    "def preview_batch(tokenizer, texts, max_length=128):\n",
    "    enc = tokenizer(texts, padding=True, truncation=True, max_length=max_length, return_tensors='pt')\n",
    "    row = 0\n",
    "    ids = enc[\"input_ids\"][row].tolist()\n",
    "    mask = enc[\"attention_mask\"][row].tolist()\n",
    "    print(\"EOS id:\", tokenizer.eos_token_id, \"| PAD id:\", tokenizer.pad_token_id)\n",
    "    print(\"Token IDs (first 80):\", ids[:80])\n",
    "    print(\"Mask      (first 80):\", mask[:80])\n",
    "    return enc\n",
    "\n",
    "def save_config_snapshot(path, config: dict):\n",
    "    with open(path, \"w\") as f:\n",
    "        json.dump(config, f, indent=2)\n",
    "    return path\n",
    "\n",
    "snapshot = {\n",
    "    \"model\": ckpt_name,\n",
    "    \"start_mode\": \"scratch\",  # or 'checkpoint'\n",
    "    \"seq_len\": seq_len,\n",
    "    \"EBS\": EBS,\n",
    "    \"base_lr\": base_lr,\n",
    "    \"warmup_steps\": warmup_steps,\n",
    "    \"dev_prompt\": \"Eval\",\n",
    "    \"seed\": 42,\n",
    "    \"truncation_rule\": \"balanced\",\n",
    "}\n",
    "\n",
    "_ = preview_batch(tok_ckpt, [\"Hello demo pre-flight batch!\"], max_length=seq_len)\n",
    "cfg_path = save_config_snapshot(\"preflight_config.json\", snapshot)\n",
    "print(\"Saved:\", cfg_path)\n"
   ]
  },
  {
   "cell_type": "markdown",
   "id": "3eef7570",
   "metadata": {},
   "source": [
    "\n",
    "## 9) Smoke test (200–500 steps)\n",
    "Run a short test to confirm **stable loss** and healthy **throughput/memory** before a long run.\n"
   ]
  },
  {
   "cell_type": "code",
   "execution_count": 14,
   "id": "13298adb",
   "metadata": {},
   "outputs": [
    {
     "name": "stdout",
     "output_type": "stream",
     "text": [
      "Ready to run: uncomment the call above to execute the smoke test.\n"
     ]
    }
   ],
   "source": [
    "\n",
    "def run_smoke_test(model, tokenizer, train_ds, dev_ds, steps=200, lr=3e-4):\n",
    "    model.train()\n",
    "    loader = DataLoader(train_ds, batch_size=micro_batch, shuffle=True)\n",
    "    optim = torch.optim.AdamW(model.parameters(), lr=lr, weight_decay=0.01)\n",
    "    warm = max(1, int(0.02*steps))\n",
    "    start = time.time()\n",
    "    stats = {\"step\": [], \"train_loss\": [], \"dev_loss\": [], \"tps\": []}\n",
    "    i = 0\n",
    "    while i < steps:\n",
    "        for batch in loader:\n",
    "            if i >= steps:\n",
    "                break\n",
    "            batch = {k: v.to(device) for k, v in batch.items()}\n",
    "            # schedule\n",
    "            if i < warm:\n",
    "                cur_lr = lr * (i + 1) / warm\n",
    "            else:\n",
    "                progress = (i - warm) / max(1, (steps - warm))\n",
    "                cur_lr = 0.5 * lr * (1 + math.cos(math.pi * progress))\n",
    "            for g in optim.param_groups: g['lr'] = cur_lr\n",
    "\n",
    "            out = model(**batch, labels=batch[\"input_ids\"])\n",
    "            out.loss.backward()\n",
    "            torch.nn.utils.clip_grad_norm_(model.parameters(), 1.0)\n",
    "            optim.step(); optim.zero_grad()\n",
    "\n",
    "            if i % 20 == 0:\n",
    "                dev_l = eval_loss(model, DataLoader(dev_ds, batch_size=micro_batch))\n",
    "                elapsed = max(1e-6, time.time() - start)\n",
    "                tps = batch[\"input_ids\"].numel() / elapsed\n",
    "                stats[\"step\"].append(i); stats[\"train_loss\"].append(out.loss.item()); stats[\"dev_loss\"].append(dev_l); stats[\"tps\"].append(tps)\n",
    "                print(f\"[smoke] step {i:4d} | train {out.loss.item():.3f} | dev {dev_l:.3f} | tps {tps:,.0f}\")\n",
    "                start = time.time()\n",
    "            i += 1\n",
    "    return stats\n",
    "\n",
    "# Example (short run)\n",
    "# smoke_stats = run_smoke_test(model, tok_ckpt, train_ds, dev_ds, steps=60, lr=base_lr)\n",
    "# smoke_stats\n",
    "print(\"Ready to run: uncomment the call above to execute the smoke test.\")\n"
   ]
  },
  {
   "cell_type": "markdown",
   "id": "590b88a1",
   "metadata": {},
   "source": [
    "\n",
    "## 10) Common “uh-ohs” & quick fixes\n",
    "We simulate two fast failure modes and show how to detect/fix them.\n"
   ]
  },
  {
   "cell_type": "code",
   "execution_count": 15,
   "id": "939ca076",
   "metadata": {},
   "outputs": [
    {
     "name": "stdout",
     "output_type": "stream",
     "text": [
      "Loss computed (but masking ignored) => risk of NaN later if PAD dominates.\n",
      "Good loss (mask respected): 10.697732925415039\n"
     ]
    }
   ],
   "source": [
    "\n",
    "# A) NaN/Inf from unmasked PAD (simulated)\n",
    "def compute_loss_without_mask(model, batch):\n",
    "    # BAD: ignore attention_mask and treat PAD as real tokens\n",
    "    out = model(input_ids=batch[\"input_ids\"].to(device), labels=batch[\"input_ids\"].to(device))\n",
    "    return out.loss\n",
    "\n",
    "bad_batch = tok_ckpt([\"This demo intentionally ignores masking\"], padding=True, truncation=True, max_length=seq_len, return_tensors='pt')\n",
    "try:\n",
    "    loss_bad = compute_loss_without_mask(model, bad_batch)\n",
    "    print(\"Loss computed (but masking ignored) => risk of NaN later if PAD dominates.\")\n",
    "except Exception as e:\n",
    "    print(\"Error (as expected in some configs):\", e)\n",
    "\n",
    "# Fix: rely on attention_mask + ensure PAD is set and not learned\n",
    "good_batch = tok_ckpt([\"This demo uses proper masking\"], padding=True, truncation=True, max_length=seq_len, return_tensors='pt')\n",
    "with torch.no_grad():\n",
    "    out_good = model(**{k: v.to(device) for k, v in good_batch.items()}, labels=good_batch[\"input_ids\"].to(device))\n",
    "    print(\"Good loss (mask respected):\", float(out_good.loss))\n"
   ]
  },
  {
   "cell_type": "code",
   "execution_count": 16,
   "id": "8f905573",
   "metadata": {},
   "outputs": [
    {
     "name": "stdout",
     "output_type": "stream",
     "text": [
      "OK LR (trend): [6.219, 6.175, 6.066, 5.996, 5.926] ...\n",
      "High LR (trend): [5.457, 8.386, 0.131, 0.14, 0.155] ... (likely unstable)\n"
     ]
    }
   ],
   "source": [
    "\n",
    "# B) LR too high (divergence)\n",
    "def try_step_with_lr(model, loader, lr):\n",
    "    model2 = model_scratch.to(device)  # fresh copy\n",
    "    optim = torch.optim.AdamW(model2.parameters(), lr=lr)\n",
    "    batch = next(iter(loader))\n",
    "    batch = {k: v.to(device) for k, v in batch.items()}\n",
    "    losses = []\n",
    "    for _ in range(10):\n",
    "        out = model2(**batch, labels=batch[\"input_ids\"])\n",
    "        losses.append(float(out.loss))\n",
    "        out.loss.backward()\n",
    "        optim.step(); optim.zero_grad()\n",
    "    return losses\n",
    "\n",
    "loader = DataLoader(train_ds, batch_size=micro_batch, shuffle=True)\n",
    "losses_ok = try_step_with_lr(model, loader, lr=3e-4)\n",
    "losses_hi = try_step_with_lr(model, loader, lr=3e-2)  # intentionally high\n",
    "\n",
    "print(\"OK LR (trend):\", [round(x,3) for x in losses_ok[:5]], \"...\")\n",
    "print(\"High LR (trend):\", [round(x,3) for x in losses_hi[:5]], \"... (likely unstable)\")\n"
   ]
  },
  {
   "cell_type": "markdown",
   "id": "054a8060",
   "metadata": {},
   "source": [
    "\n",
    "### Where to go next\n",
    "- Swap in your **real tokenizer and model checkpoint**.\n",
    "- Point the dataset loader at your **real training data** and define a **dev set** you never train on.\n",
    "- Expand the **smoke test** to 200–500 steps; only then launch a long run.\n",
    "- Keep notes: config snapshots, seeds, data hashes, and evaluation cadence.\n"
   ]
  },
  {
   "cell_type": "code",
   "execution_count": null,
   "id": "770e7dbe-169a-4924-96f3-c5081e34a291",
   "metadata": {},
   "outputs": [],
   "source": []
  }
 ],
 "metadata": {
  "kernelspec": {
   "display_name": "Python 3 (ipykernel)",
   "language": "python",
   "name": "python3"
  },
  "language_info": {
   "codemirror_mode": {
    "name": "ipython",
    "version": 3
   },
   "file_extension": ".py",
   "mimetype": "text/x-python",
   "name": "python",
   "nbconvert_exporter": "python",
   "pygments_lexer": "ipython3",
   "version": "3.11.11"
  }
 },
 "nbformat": 4,
 "nbformat_minor": 5
}
